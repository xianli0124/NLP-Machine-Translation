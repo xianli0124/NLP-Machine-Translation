{
 "cells": [
  {
   "cell_type": "markdown",
   "metadata": {
    "collapsed": true
   },
   "source": [
    "# Artificial Intelligence Nanodegree\n",
    "## Machine Translation Project\n",
    "In this notebook, sections that end with **'(IMPLEMENTATION)'** in the header indicate that the following blocks of code will require additional functionality which you must provide. Please be sure to read the instructions carefully!\n",
    "\n",
    "## Introduction\n",
    "In this notebook, you will build a deep neural network that functions as part of an end-to-end machine translation pipeline. Your completed pipeline will accept English text as input and return the French translation.\n",
    "\n",
    "- **Preprocess** - You'll convert text to sequence of integers.\n",
    "- **Models** Create models which accepts a sequence of integers as input and returns a probability distribution over possible translations. After learning about the basic types of neural networks that are often used for machine translation, you will engage in your own investigations, to design your own model!\n",
    "- **Prediction** Run the model on English text."
   ]
  },
  {
   "cell_type": "code",
   "execution_count": 1,
   "metadata": {},
   "outputs": [],
   "source": [
    "%load_ext autoreload\n",
    "%aimport helper, tests\n",
    "%autoreload 1"
   ]
  },
  {
   "cell_type": "code",
   "execution_count": 2,
   "metadata": {},
   "outputs": [
    {
     "name": "stderr",
     "output_type": "stream",
     "text": [
      "Using TensorFlow backend.\n"
     ]
    }
   ],
   "source": [
    "import collections\n",
    "\n",
    "import helper\n",
    "import numpy as np\n",
    "import project_tests as tests\n",
    "\n",
    "from keras.preprocessing.text import Tokenizer\n",
    "from keras.preprocessing.sequence import pad_sequences\n",
    "from keras.models import Model, Sequential\n",
    "from keras.layers import GRU, Input, Dense, TimeDistributed, Activation, RepeatVector, Bidirectional, LSTM, Dropout\n",
    "from keras.layers.embeddings import Embedding\n",
    "from keras.optimizers import Adam\n",
    "from keras.losses import sparse_categorical_crossentropy"
   ]
  },
  {
   "cell_type": "markdown",
   "metadata": {},
   "source": [
    "### Verify access to the GPU\n",
    "The following test applies only if you expect to be using a GPU, e.g., while running in a Udacity Workspace or using an AWS instance with GPU support. Run the next cell, and verify that the device_type is \"GPU\".\n",
    "- If the device is not GPU & you are running from a Udacity Workspace, then save your workspace with the icon at the top, then click \"enable\" at the bottom of the workspace.\n",
    "- If the device is not GPU & you are running from an AWS instance, then refer to the cloud computing instructions in the classroom to verify your setup steps."
   ]
  },
  {
   "cell_type": "code",
   "execution_count": 3,
   "metadata": {},
   "outputs": [
    {
     "name": "stdout",
     "output_type": "stream",
     "text": [
      "[name: \"/cpu:0\"\n",
      "device_type: \"CPU\"\n",
      "memory_limit: 268435456\n",
      "locality {\n",
      "}\n",
      "incarnation: 7113126262337566066\n",
      ", name: \"/gpu:0\"\n",
      "device_type: \"GPU\"\n",
      "memory_limit: 357433344\n",
      "locality {\n",
      "  bus_id: 1\n",
      "}\n",
      "incarnation: 14457468610466276219\n",
      "physical_device_desc: \"device: 0, name: Tesla K80, pci bus id: 0000:00:04.0\"\n",
      "]\n"
     ]
    }
   ],
   "source": [
    "from tensorflow.python.client import device_lib\n",
    "print(device_lib.list_local_devices())"
   ]
  },
  {
   "cell_type": "markdown",
   "metadata": {},
   "source": [
    "## Dataset\n",
    "We begin by investigating the dataset that will be used to train and evaluate your pipeline.  The most common datasets used for machine translation are from [WMT](http://www.statmt.org/).  However, that will take a long time to train a neural network on.  We'll be using a dataset we created for this project that contains a small vocabulary.  You'll be able to train your model in a reasonable time with this dataset.\n",
    "### Load Data\n",
    "The data is located in `data/small_vocab_en` and `data/small_vocab_fr`. The `small_vocab_en` file contains English sentences with their French translations in the `small_vocab_fr` file. Load the English and French data from these files from running the cell below."
   ]
  },
  {
   "cell_type": "code",
   "execution_count": 4,
   "metadata": {},
   "outputs": [
    {
     "name": "stdout",
     "output_type": "stream",
     "text": [
      "Dataset Loaded\n"
     ]
    }
   ],
   "source": [
    "# Load English data\n",
    "english_sentences = helper.load_data('data/small_vocab_en')\n",
    "# Load French data\n",
    "french_sentences = helper.load_data('data/small_vocab_fr')\n",
    "\n",
    "print('Dataset Loaded')"
   ]
  },
  {
   "cell_type": "markdown",
   "metadata": {},
   "source": [
    "### Files\n",
    "Each line in `small_vocab_en` contains an English sentence with the respective translation in each line of `small_vocab_fr`.  View the first two lines from each file."
   ]
  },
  {
   "cell_type": "code",
   "execution_count": 5,
   "metadata": {},
   "outputs": [
    {
     "name": "stdout",
     "output_type": "stream",
     "text": [
      "small_vocab_en Line 1:  new jersey is sometimes quiet during autumn , and it is snowy in april .\n",
      "small_vocab_fr Line 1:  new jersey est parfois calme pendant l' automne , et il est neigeux en avril .\n",
      "small_vocab_en Line 2:  the united states is usually chilly during july , and it is usually freezing in november .\n",
      "small_vocab_fr Line 2:  les états-unis est généralement froid en juillet , et il gèle habituellement en novembre .\n"
     ]
    }
   ],
   "source": [
    "for sample_i in range(2):\n",
    "    print('small_vocab_en Line {}:  {}'.format(sample_i + 1, english_sentences[sample_i]))\n",
    "    print('small_vocab_fr Line {}:  {}'.format(sample_i + 1, french_sentences[sample_i]))"
   ]
  },
  {
   "cell_type": "markdown",
   "metadata": {},
   "source": [
    "From looking at the sentences, you can see they have been preprocessed already.  The puncuations have been delimited using spaces. All the text have been converted to lowercase.  This should save you some time, but the text requires more preprocessing.\n",
    "### Vocabulary\n",
    "The complexity of the problem is determined by the complexity of the vocabulary.  A more complex vocabulary is a more complex problem.  Let's look at the complexity of the dataset we'll be working with."
   ]
  },
  {
   "cell_type": "code",
   "execution_count": 6,
   "metadata": {},
   "outputs": [
    {
     "name": "stdout",
     "output_type": "stream",
     "text": [
      "1823250 English words.\n",
      "227 unique English words.\n",
      "10 Most common words in the English dataset:\n",
      "\"is\" \",\" \".\" \"in\" \"it\" \"during\" \"the\" \"but\" \"and\" \"sometimes\"\n",
      "\n",
      "1961295 French words.\n",
      "355 unique French words.\n",
      "10 Most common words in the French dataset:\n",
      "\"est\" \".\" \",\" \"en\" \"il\" \"les\" \"mais\" \"et\" \"la\" \"parfois\"\n"
     ]
    }
   ],
   "source": [
    "english_words_counter = collections.Counter([word for sentence in english_sentences for word in sentence.split()])\n",
    "french_words_counter = collections.Counter([word for sentence in french_sentences for word in sentence.split()])\n",
    "\n",
    "print('{} English words.'.format(len([word for sentence in english_sentences for word in sentence.split()])))\n",
    "print('{} unique English words.'.format(len(english_words_counter)))\n",
    "print('10 Most common words in the English dataset:')\n",
    "print('\"' + '\" \"'.join(list(zip(*english_words_counter.most_common(10)))[0]) + '\"')\n",
    "print()\n",
    "print('{} French words.'.format(len([word for sentence in french_sentences for word in sentence.split()])))\n",
    "print('{} unique French words.'.format(len(french_words_counter)))\n",
    "print('10 Most common words in the French dataset:')\n",
    "print('\"' + '\" \"'.join(list(zip(*french_words_counter.most_common(10)))[0]) + '\"')"
   ]
  },
  {
   "cell_type": "markdown",
   "metadata": {},
   "source": [
    "For comparison, _Alice's Adventures in Wonderland_ contains 2,766 unique words of a total of 15,500 words.\n",
    "## Preprocess\n",
    "For this project, you won't use text data as input to your model. Instead, you'll convert the text into sequences of integers using the following preprocess methods:\n",
    "1. Tokenize the words into ids\n",
    "2. Add padding to make all the sequences the same length.\n",
    "\n",
    "Time to start preprocessing the data...\n",
    "### Tokenize\n",
    "For a neural network to predict on text data, it first has to be turned into data it can understand. Text data like \"dog\" is a sequence of ASCII character encodings.  Since a neural network is a series of multiplication and addition operations, the input data needs to be number(s).\n",
    "\n",
    "We can turn each character into a number or each word into a number.  These are called character and word ids, respectively.  Character ids are used for character level models that generate text predictions for each character.  A word level model uses word ids that generate text predictions for each word.  Word level models tend to learn better, since they are lower in complexity, so we'll use those.\n",
    "\n",
    "Turn each sentence into a sequence of words ids using Keras's [`Tokenizer`](https://keras.io/preprocessing/text/#tokenizer) function. Use this function to tokenize `english_sentences` and `french_sentences` in the cell below.\n",
    "\n",
    "Running the cell will run `tokenize` on sample data and show output for debugging."
   ]
  },
  {
   "cell_type": "code",
   "execution_count": 7,
   "metadata": {},
   "outputs": [
    {
     "name": "stdout",
     "output_type": "stream",
     "text": [
      "{'the': 1, 'quick': 2, 'a': 3, 'brown': 4, 'fox': 5, 'jumps': 6, 'over': 7, 'lazy': 8, 'dog': 9, 'by': 10, 'jove': 11, 'my': 12, 'study': 13, 'of': 14, 'lexicography': 15, 'won': 16, 'prize': 17, 'this': 18, 'is': 19, 'short': 20, 'sentence': 21}\n",
      "\n",
      "Sequence 1 in x\n",
      "  Input:  The quick brown fox jumps over the lazy dog .\n",
      "  Output: [1, 2, 4, 5, 6, 7, 1, 8, 9]\n",
      "Sequence 2 in x\n",
      "  Input:  By Jove , my quick study of lexicography won a prize .\n",
      "  Output: [10, 11, 12, 2, 13, 14, 15, 16, 3, 17]\n",
      "Sequence 3 in x\n",
      "  Input:  This is a short sentence .\n",
      "  Output: [18, 19, 3, 20, 21]\n"
     ]
    }
   ],
   "source": [
    "def tokenize(x):\n",
    "    \"\"\"\n",
    "    Tokenize x\n",
    "    :param x: List of sentences/strings to be tokenized\n",
    "    :return: Tuple of (tokenized x data, tokenizer used to tokenize x)\n",
    "    \"\"\"\n",
    "    tokenizer = Tokenizer()\n",
    "    tokenizer.fit_on_texts(x)\n",
    "    tokenized_data = tokenizer.texts_to_sequences(x)\n",
    "    return tokenized_data, tokenizer\n",
    "tests.test_tokenize(tokenize)\n",
    "\n",
    "# Tokenize Example output\n",
    "text_sentences = [\n",
    "    'The quick brown fox jumps over the lazy dog .',\n",
    "    'By Jove , my quick study of lexicography won a prize .',\n",
    "    'This is a short sentence .']\n",
    "text_tokenized, text_tokenizer = tokenize(text_sentences)\n",
    "print(text_tokenizer.word_index)\n",
    "print()\n",
    "for sample_i, (sent, token_sent) in enumerate(zip(text_sentences, text_tokenized)):\n",
    "    print('Sequence {} in x'.format(sample_i + 1))\n",
    "    print('  Input:  {}'.format(sent))\n",
    "    print('  Output: {}'.format(token_sent))"
   ]
  },
  {
   "cell_type": "markdown",
   "metadata": {},
   "source": [
    "### Padding\n",
    "When batching the sequence of word ids together, each sequence needs to be the same length.  Since sentences are dynamic in length, we can add padding to the end of the sequences to make them the same length.\n",
    "\n",
    "Make sure all the English sequences have the same length and all the French sequences have the same length by adding padding to the **end** of each sequence using Keras's [`pad_sequences`](https://keras.io/preprocessing/sequence/#pad_sequences) function."
   ]
  },
  {
   "cell_type": "code",
   "execution_count": 8,
   "metadata": {},
   "outputs": [
    {
     "name": "stdout",
     "output_type": "stream",
     "text": [
      "Sequence 1 in x\n",
      "  Input:  [1 2 4 5 6 7 1 8 9]\n",
      "  Output: [1 2 4 5 6 7 1 8 9 0]\n",
      "Sequence 2 in x\n",
      "  Input:  [10 11 12  2 13 14 15 16  3 17]\n",
      "  Output: [10 11 12  2 13 14 15 16  3 17]\n",
      "Sequence 3 in x\n",
      "  Input:  [18 19  3 20 21]\n",
      "  Output: [18 19  3 20 21  0  0  0  0  0]\n"
     ]
    }
   ],
   "source": [
    "def pad(x, length=None):\n",
    "    \"\"\"\n",
    "    Pad x\n",
    "    :param x: List of sequences.\n",
    "    :param length: Length to pad the sequence to.  If None, use length of longest sequence in x.\n",
    "    :return: Padded numpy array of sequences\n",
    "    \"\"\"\n",
    "    if length is None:\n",
    "        length = max([len(sentence) for sentence in x])\n",
    "    return pad_sequences(x, maxlen=length, padding='post')\n",
    "tests.test_pad(pad)\n",
    "\n",
    "# Pad Tokenized output\n",
    "test_pad = pad(text_tokenized)\n",
    "for sample_i, (token_sent, pad_sent) in enumerate(zip(text_tokenized, test_pad)):\n",
    "    print('Sequence {} in x'.format(sample_i + 1))\n",
    "    print('  Input:  {}'.format(np.array(token_sent)))\n",
    "    print('  Output: {}'.format(pad_sent))"
   ]
  },
  {
   "cell_type": "markdown",
   "metadata": {},
   "source": [
    "### Preprocess Pipeline\n",
    "Your focus for this project is to build neural network architecture, so we won't ask you to create a preprocess pipeline.  Instead, we've provided you with the implementation of the `preprocess` function."
   ]
  },
  {
   "cell_type": "code",
   "execution_count": 9,
   "metadata": {},
   "outputs": [
    {
     "name": "stdout",
     "output_type": "stream",
     "text": [
      "Data Preprocessed\n",
      "Max English sentence length: 15\n",
      "Max French sentence length: 21\n",
      "English vocabulary size: 199\n",
      "French vocabulary size: 344\n"
     ]
    }
   ],
   "source": [
    "def preprocess(x, y):\n",
    "    \"\"\"\n",
    "    Preprocess x and y\n",
    "    :param x: Feature List of sentences\n",
    "    :param y: Label List of sentences\n",
    "    :return: Tuple of (Preprocessed x, Preprocessed y, x tokenizer, y tokenizer)\n",
    "    \"\"\"\n",
    "    preprocess_x, x_tk = tokenize(x)\n",
    "    preprocess_y, y_tk = tokenize(y)\n",
    "\n",
    "    preprocess_x = pad(preprocess_x)\n",
    "    preprocess_y = pad(preprocess_y)\n",
    "\n",
    "    # Keras's sparse_categorical_crossentropy function requires the labels to be in 3 dimensions\n",
    "    preprocess_y = preprocess_y.reshape(*preprocess_y.shape, 1)\n",
    "\n",
    "    return preprocess_x, preprocess_y, x_tk, y_tk\n",
    "\n",
    "preproc_english_sentences, preproc_french_sentences, english_tokenizer, french_tokenizer =\\\n",
    "    preprocess(english_sentences, french_sentences)\n",
    "    \n",
    "max_english_sequence_length = preproc_english_sentences.shape[1]\n",
    "max_french_sequence_length = preproc_french_sentences.shape[1]\n",
    "english_vocab_size = len(english_tokenizer.word_index)\n",
    "french_vocab_size = len(french_tokenizer.word_index)\n",
    "\n",
    "print('Data Preprocessed')\n",
    "print(\"Max English sentence length:\", max_english_sequence_length)\n",
    "print(\"Max French sentence length:\", max_french_sequence_length)\n",
    "print(\"English vocabulary size:\", english_vocab_size)\n",
    "print(\"French vocabulary size:\", french_vocab_size)"
   ]
  },
  {
   "cell_type": "markdown",
   "metadata": {},
   "source": [
    "## Models\n",
    "In this section, you will experiment with various neural network architectures.\n",
    "You will begin by training four relatively simple architectures.\n",
    "- Model 1 is a simple RNN\n",
    "- Model 2 is a RNN with Embedding\n",
    "- Model 3 is a Bidirectional RNN\n",
    "- Model 4 is an optional Encoder-Decoder RNN\n",
    "\n",
    "After experimenting with the four simple architectures, you will construct a deeper architecture that is designed to outperform all four models.\n",
    "### Ids Back to Text\n",
    "The neural network will be translating the input to words ids, which isn't the final form we want.  We want the French translation.  The function `logits_to_text` will bridge the gab between the logits from the neural network to the French translation.  You'll be using this function to better understand the output of the neural network."
   ]
  },
  {
   "cell_type": "code",
   "execution_count": 10,
   "metadata": {},
   "outputs": [
    {
     "name": "stdout",
     "output_type": "stream",
     "text": [
      "`logits_to_text` function loaded.\n"
     ]
    }
   ],
   "source": [
    "def logits_to_text(logits, tokenizer):\n",
    "    \"\"\"\n",
    "    Turn logits from a neural network into text using the tokenizer\n",
    "    :param logits: Logits from a neural network\n",
    "    :param tokenizer: Keras Tokenizer fit on the labels\n",
    "    :return: String that represents the text of the logits\n",
    "    \"\"\"\n",
    "    index_to_words = {id: word for word, id in tokenizer.word_index.items()}\n",
    "    index_to_words[0] = '<PAD>'\n",
    "\n",
    "    return ' '.join([index_to_words[prediction] for prediction in np.argmax(logits, 1)])\n",
    "\n",
    "print('`logits_to_text` function loaded.')"
   ]
  },
  {
   "cell_type": "markdown",
   "metadata": {},
   "source": [
    "### Model 1: RNN \n",
    "![RNN](images/rnn.png)\n",
    "A basic RNN model is a good baseline for sequence data.  In this model, you'll build a RNN that translates English to French."
   ]
  },
  {
   "cell_type": "code",
   "execution_count": 11,
   "metadata": {},
   "outputs": [
    {
     "name": "stdout",
     "output_type": "stream",
     "text": [
      "Train on 110288 samples, validate on 27573 samples\n",
      "Epoch 1/10\n",
      "110288/110288 [==============================] - 12s 110us/step - loss: 3.5006 - acc: 0.4279 - val_loss: 2.5342 - val_acc: 0.4688\n",
      "Epoch 2/10\n",
      "110288/110288 [==============================] - 10s 88us/step - loss: 2.4104 - acc: 0.4741 - val_loss: 2.2770 - val_acc: 0.4807\n",
      "Epoch 3/10\n",
      "110288/110288 [==============================] - 10s 89us/step - loss: 2.1367 - acc: 0.5130 - val_loss: 1.9915 - val_acc: 0.5377\n",
      "Epoch 4/10\n",
      "110288/110288 [==============================] - 9s 82us/step - loss: 1.8903 - acc: 0.5606 - val_loss: 1.8060 - val_acc: 0.5743\n",
      "Epoch 5/10\n",
      "110288/110288 [==============================] - 7s 67us/step - loss: 1.7511 - acc: 0.5797 - val_loss: 1.7011 - val_acc: 0.5852\n",
      "Epoch 6/10\n",
      "110288/110288 [==============================] - 8s 69us/step - loss: 1.6643 - acc: 0.5859 - val_loss: 1.6289 - val_acc: 0.5885\n",
      "Epoch 7/10\n",
      "110288/110288 [==============================] - 8s 69us/step - loss: 1.6019 - acc: 0.5921 - val_loss: 1.5744 - val_acc: 0.5944\n",
      "Epoch 8/10\n",
      "110288/110288 [==============================] - 7s 65us/step - loss: 1.5521 - acc: 0.5989 - val_loss: 1.5283 - val_acc: 0.6060\n",
      "Epoch 9/10\n",
      "110288/110288 [==============================] - 7s 66us/step - loss: 1.5080 - acc: 0.6073 - val_loss: 1.4856 - val_acc: 0.6119\n",
      "Epoch 10/10\n",
      "110288/110288 [==============================] - 7s 66us/step - loss: 1.4651 - acc: 0.6131 - val_loss: 1.4428 - val_acc: 0.6162\n",
      "new jersey est parfois parfois en en mais il est est en en <PAD> <PAD> <PAD> <PAD> <PAD> <PAD> <PAD> <PAD>\n"
     ]
    }
   ],
   "source": [
    "def simple_model(input_shape, output_sequence_length, english_vocab_size, french_vocab_size):\n",
    "    \"\"\"\n",
    "    Build and train a basic RNN on x and y\n",
    "    :param input_shape: Tuple of input shape\n",
    "    :param output_sequence_length: Length of output sequence\n",
    "    :param english_vocab_size: Number of unique English words in the dataset\n",
    "    :param french_vocab_size: Number of unique French words in the dataset\n",
    "    :return: Keras model built, but not trained\n",
    "    \"\"\"\n",
    "    learning_rate = 1e-3\n",
    "    input_seq = Input(input_shape[1:])\n",
    "    rnn = GRU(64, return_sequences=True)(input_seq)\n",
    "    logits = TimeDistributed(Dense(french_vocab_size))(rnn)\n",
    "\n",
    "    model = Model(input_seq, Activation('softmax')(logits))\n",
    "    model.compile(loss=sparse_categorical_crossentropy,\n",
    "                  optimizer=Adam(learning_rate),\n",
    "                  metrics=['accuracy'])\n",
    "    return model\n",
    "tests.test_simple_model(simple_model)\n",
    "\n",
    "# Reshaping the input to work with a basic RNN\n",
    "tmp_x = pad(preproc_english_sentences, max_french_sequence_length)\n",
    "tmp_x = tmp_x.reshape((-1, preproc_french_sentences.shape[-2], 1))\n",
    "\n",
    "# Train the neural network\n",
    "simple_rnn_model = simple_model(\n",
    "    tmp_x.shape,\n",
    "    max_french_sequence_length,\n",
    "    english_vocab_size+1,  # Add 1 so the validation loss isn't nan \n",
    "    french_vocab_size+1)   # Add 1 so the validation loss isn't nan \n",
    "simple_rnn_model.fit(tmp_x, preproc_french_sentences, batch_size=1024, epochs=10, validation_split=0.2)\n",
    "\n",
    "# Print prediction(s)\n",
    "print(logits_to_text(simple_rnn_model.predict(tmp_x[:1])[0], french_tokenizer))"
   ]
  },
  {
   "cell_type": "markdown",
   "metadata": {},
   "source": [
    "### Model 2: Embedding\n",
    "![RNN](images/embedding.png)\n",
    "You've turned the words into ids, but there's a better representation of a word.  This is called word embeddings.  An embedding is a vector representation of the word that is close to similar words in n-dimensional space, where the n represents the size of the embedding vectors.\n",
    "\n",
    "In this model, you'll create a RNN model using embedding."
   ]
  },
  {
   "cell_type": "code",
   "execution_count": 12,
   "metadata": {},
   "outputs": [
    {
     "name": "stdout",
     "output_type": "stream",
     "text": [
      "Train on 110288 samples, validate on 27573 samples\n",
      "Epoch 1/10\n",
      "110288/110288 [==============================] - 8s 71us/step - loss: 3.7647 - acc: 0.3981 - val_loss: 2.8901 - val_acc: 0.4095\n",
      "Epoch 2/10\n",
      "110288/110288 [==============================] - 8s 69us/step - loss: 2.5311 - acc: 0.4720 - val_loss: 2.0843 - val_acc: 0.5511\n",
      "Epoch 3/10\n",
      "110288/110288 [==============================] - 8s 69us/step - loss: 1.7251 - acc: 0.6025 - val_loss: 1.4358 - val_acc: 0.6532\n",
      "Epoch 4/10\n",
      "110288/110288 [==============================] - 8s 69us/step - loss: 1.2346 - acc: 0.7016 - val_loss: 1.0705 - val_acc: 0.7398\n",
      "Epoch 5/10\n",
      "110288/110288 [==============================] - 8s 69us/step - loss: 0.9671 - acc: 0.7598 - val_loss: 0.8751 - val_acc: 0.7797\n",
      "Epoch 6/10\n",
      "110288/110288 [==============================] - 8s 69us/step - loss: 0.8127 - acc: 0.7895 - val_loss: 0.7543 - val_acc: 0.8009\n",
      "Epoch 7/10\n",
      "110288/110288 [==============================] - 8s 68us/step - loss: 0.7091 - acc: 0.8097 - val_loss: 0.6667 - val_acc: 0.8179\n",
      "Epoch 8/10\n",
      "110288/110288 [==============================] - 8s 68us/step - loss: 0.6338 - acc: 0.8242 - val_loss: 0.6031 - val_acc: 0.8301\n",
      "Epoch 9/10\n",
      "110288/110288 [==============================] - 8s 68us/step - loss: 0.5781 - acc: 0.8362 - val_loss: 0.5559 - val_acc: 0.8416\n",
      "Epoch 10/10\n",
      "110288/110288 [==============================] - 8s 68us/step - loss: 0.5337 - acc: 0.8468 - val_loss: 0.5142 - val_acc: 0.8530\n",
      "new jersey est parfois calme en l' et il il est neigeux en avril <PAD> <PAD> <PAD> <PAD> <PAD> <PAD> <PAD>\n"
     ]
    }
   ],
   "source": [
    "def embed_model(input_shape, output_sequence_length, english_vocab_size, french_vocab_size):\n",
    "    \"\"\"\n",
    "    Build and train a RNN model using word embedding on x and y\n",
    "    :param input_shape: Tuple of input shape\n",
    "    :param output_sequence_length: Length of output sequence\n",
    "    :param english_vocab_size: Number of unique English words in the dataset\n",
    "    :param french_vocab_size: Number of unique French words in the dataset\n",
    "    :return: Keras model built, but not trained\n",
    "    \"\"\"\n",
    "    embedding_size = 100\n",
    "    learning_rate = 1e-3\n",
    "    rnn = GRU(64, return_sequences=True)\n",
    "    logits = TimeDistributed(Dense(french_vocab_size, activation = 'softmax'))\n",
    "    \n",
    "    model = Sequential()\n",
    "    \n",
    "    # Create embeddings for the English words before training the RNN\n",
    "    model.add(Embedding(english_vocab_size, embedding_size, input_shape = input_shape[1:]))\n",
    "    model.add(rnn)\n",
    "    model.add(logits)\n",
    "    model.compile(loss=sparse_categorical_crossentropy,\n",
    "                  optimizer=Adam(learning_rate),\n",
    "                  metrics=['accuracy'])\n",
    "    return model\n",
    "tests.test_embed_model(embed_model)\n",
    "\n",
    "# Reshape the input\n",
    "tmp_x = pad(preproc_english_sentences, max_french_sequence_length)\n",
    "\n",
    "# Train the neural network\n",
    "embed_model = embed_model(\n",
    "    tmp_x.shape,\n",
    "    max_french_sequence_length,\n",
    "    english_vocab_size+1,  # Add 1 so the validation loss isn't nan \n",
    "    french_vocab_size+1)   # Add 1 so the validation loss isn't nan \n",
    "embed_model.fit(tmp_x, preproc_french_sentences, batch_size=1024, epochs=10, validation_split=0.2)\n",
    "\n",
    "# Print prediction(s)\n",
    "print(logits_to_text(embed_model.predict(tmp_x[:1])[0], french_tokenizer))"
   ]
  },
  {
   "cell_type": "markdown",
   "metadata": {},
   "source": [
    "### Model 3: Bidirectional RNNs\n",
    "![RNN](images/bidirectional.png)\n",
    "One restriction of a RNN is that it can't see the future input, only the past.  This is where bidirectional recurrent neural networks come in.  They are able to see the future data."
   ]
  },
  {
   "cell_type": "code",
   "execution_count": 13,
   "metadata": {},
   "outputs": [
    {
     "name": "stdout",
     "output_type": "stream",
     "text": [
      "Train on 110288 samples, validate on 27573 samples\n",
      "Epoch 1/10\n",
      "110288/110288 [==============================] - 10s 95us/step - loss: 3.2527 - acc: 0.4577 - val_loss: 2.1826 - val_acc: 0.5273\n",
      "Epoch 2/10\n",
      "110288/110288 [==============================] - 10s 89us/step - loss: 1.9129 - acc: 0.5603 - val_loss: 1.7077 - val_acc: 0.5780\n",
      "Epoch 3/10\n",
      "110288/110288 [==============================] - 10s 89us/step - loss: 1.6031 - acc: 0.5944 - val_loss: 1.5179 - val_acc: 0.6074\n",
      "Epoch 4/10\n",
      "110288/110288 [==============================] - 10s 90us/step - loss: 1.4624 - acc: 0.6145 - val_loss: 1.4130 - val_acc: 0.6206\n",
      "Epoch 5/10\n",
      "110288/110288 [==============================] - 10s 89us/step - loss: 1.3759 - acc: 0.6266 - val_loss: 1.3403 - val_acc: 0.6347\n",
      "Epoch 6/10\n",
      "110288/110288 [==============================] - 10s 89us/step - loss: 1.3129 - acc: 0.6372 - val_loss: 1.2853 - val_acc: 0.6453\n",
      "Epoch 7/10\n",
      "110288/110288 [==============================] - 10s 90us/step - loss: 1.2633 - acc: 0.6477 - val_loss: 1.2401 - val_acc: 0.6517\n",
      "Epoch 8/10\n",
      "110288/110288 [==============================] - 10s 90us/step - loss: 1.2212 - acc: 0.6565 - val_loss: 1.2018 - val_acc: 0.6613\n",
      "Epoch 9/10\n",
      "110288/110288 [==============================] - 10s 89us/step - loss: 1.1854 - acc: 0.6630 - val_loss: 1.1691 - val_acc: 0.6660\n",
      "Epoch 10/10\n",
      "110288/110288 [==============================] - 10s 88us/step - loss: 1.1546 - acc: 0.6691 - val_loss: 1.1404 - val_acc: 0.6723\n",
      "new jersey est parfois chaud en l' et il est est en en <PAD> <PAD> <PAD> <PAD> <PAD> <PAD> <PAD> <PAD>\n"
     ]
    }
   ],
   "source": [
    "def bd_model(input_shape, output_sequence_length, english_vocab_size, french_vocab_size):\n",
    "    \"\"\"\n",
    "    Build and train a bidirectional RNN model on x and y\n",
    "    :param input_shape: Tuple of input shape\n",
    "    :param output_sequence_length: Length of output sequence\n",
    "    :param english_vocab_size: Number of unique English words in the dataset\n",
    "    :param french_vocab_size: Number of unique French words in the dataset\n",
    "    :return: Keras model built, but not trained\n",
    "    \"\"\"\n",
    "    learning_rate = 1e-3\n",
    "    rnn = GRU(64, return_sequences=True)\n",
    "    logits = TimeDistributed(Dense(french_vocab_size, activation = 'softmax'))\n",
    "    \n",
    "    model = Sequential()\n",
    "    model.add(Bidirectional(rnn, input_shape = input_shape[1:]))\n",
    "    model.add(logits)\n",
    "    model.compile(loss=sparse_categorical_crossentropy,\n",
    "                  optimizer=Adam(learning_rate),\n",
    "                  metrics=['accuracy'])\n",
    "    return model\n",
    "tests.test_bd_model(bd_model)\n",
    "\n",
    "\n",
    "# Reshape the input\n",
    "tmp_x = pad(preproc_english_sentences, max_french_sequence_length)\n",
    "tmp_x = tmp_x.reshape((-1, preproc_french_sentences.shape[-2], 1))\n",
    "              \n",
    "# Train the neural network\n",
    "bd_model = bd_model(\n",
    "    tmp_x.shape,\n",
    "    max_french_sequence_length,\n",
    "    english_vocab_size+1,  # Add 1 so the validation loss isn't nan \n",
    "    french_vocab_size+1)   # Add 1 so the validation loss isn't nan \n",
    "bd_model.fit(tmp_x, preproc_french_sentences, batch_size=1024, epochs=10, validation_split=0.2)\n",
    "\n",
    "# Print prediction(s)\n",
    "print(logits_to_text(bd_model.predict(tmp_x[:1])[0], french_tokenizer))"
   ]
  },
  {
   "cell_type": "markdown",
   "metadata": {},
   "source": [
    "### Model 4: Encoder-Decoder\n",
    "Time to look at encoder-decoder models.  This model is made up of an encoder and decoder. The encoder creates a matrix representation of the sentence.  The decoder takes this matrix as input and predicts the translation as output.\n",
    "\n",
    "Create an encoder-decoder model in the cell below."
   ]
  },
  {
   "cell_type": "code",
   "execution_count": 14,
   "metadata": {},
   "outputs": [
    {
     "name": "stdout",
     "output_type": "stream",
     "text": [
      "Train on 110288 samples, validate on 27573 samples\n",
      "Epoch 1/10\n",
      "110288/110288 [==============================] - 21s 192us/step - loss: 3.0985 - acc: 0.4333 - val_loss: 2.5276 - val_acc: 0.4723\n",
      "Epoch 2/10\n",
      "110288/110288 [==============================] - 20s 183us/step - loss: 2.4005 - acc: 0.4848 - val_loss: 2.2301 - val_acc: 0.5013\n",
      "Epoch 3/10\n",
      "110288/110288 [==============================] - 20s 182us/step - loss: 2.1409 - acc: 0.5212 - val_loss: 2.0410 - val_acc: 0.5356\n",
      "Epoch 4/10\n",
      "110288/110288 [==============================] - 20s 182us/step - loss: 1.9714 - acc: 0.5404 - val_loss: 1.9109 - val_acc: 0.5432\n",
      "Epoch 5/10\n",
      "110288/110288 [==============================] - 20s 182us/step - loss: 1.8796 - acc: 0.5447 - val_loss: 1.8424 - val_acc: 0.5454\n",
      "Epoch 6/10\n",
      "110288/110288 [==============================] - 20s 182us/step - loss: 1.8182 - acc: 0.5487 - val_loss: 1.7844 - val_acc: 0.5527\n",
      "Epoch 7/10\n",
      "110288/110288 [==============================] - 20s 182us/step - loss: 1.7271 - acc: 0.5637 - val_loss: 1.5923 - val_acc: 0.5850\n",
      "Epoch 8/10\n",
      "110288/110288 [==============================] - 20s 182us/step - loss: 1.5261 - acc: 0.5898 - val_loss: 1.4792 - val_acc: 0.6002\n",
      "Epoch 9/10\n",
      "110288/110288 [==============================] - 20s 183us/step - loss: 1.4454 - acc: 0.6059 - val_loss: 1.4092 - val_acc: 0.6144\n",
      "Epoch 10/10\n",
      "110288/110288 [==============================] - 20s 182us/step - loss: 1.3781 - acc: 0.6181 - val_loss: 1.3454 - val_acc: 0.6241\n",
      "new jersey est parfois froid en mois et il est est en en <PAD> <PAD> <PAD> <PAD> <PAD> <PAD> <PAD> <PAD>\n"
     ]
    }
   ],
   "source": [
    "def encdec_model(input_shape, output_sequence_length, english_vocab_size, french_vocab_size):\n",
    "    \"\"\"\n",
    "    Build and train an encoder-decoder model on x and y\n",
    "    :param input_shape: Tuple of input shape\n",
    "    :param output_sequence_length: Length of output sequence\n",
    "    :param english_vocab_size: Number of unique English words in the dataset\n",
    "    :param french_vocab_size: Number of unique French words in the dataset\n",
    "    :return: Keras model built, but not trained\n",
    "    \"\"\"     \n",
    "    learning_rate = 1e-3\n",
    "    # Take the input and create a 21(max sentence length) x 128 feature matrix \n",
    "    enc1 = GRU(128, return_sequences=True, input_shape = input_shape[1:])\n",
    "    # Take the 21 x 128 matrix and condense it to 1 x 64\n",
    "    enc2 = GRU(64, return_sequences=False)\n",
    "    # Decoder takes the 21 x 64 input from the repeat vector layer and unfolds it\n",
    "    dec1 = GRU(64, return_sequences=True)\n",
    "    dec2 = GRU(128, return_sequences=True)\n",
    "    # Output the French sentence\n",
    "    logits = TimeDistributed(Dense(french_vocab_size, activation = 'softmax'))\n",
    "    \n",
    "    model = Sequential()\n",
    "    model.add(enc1)\n",
    "    model.add(enc2)\n",
    "    model.add(RepeatVector(output_sequence_length))\n",
    "    model.add(dec1)\n",
    "    model.add(dec2)\n",
    "    model.add(logits)\n",
    "    model.compile(loss=sparse_categorical_crossentropy,\n",
    "                  optimizer=Adam(learning_rate),\n",
    "                  metrics=['accuracy'])\n",
    "    return model\n",
    "tests.test_encdec_model(encdec_model)\n",
    "\n",
    "# Reshape the input\n",
    "tmp_x = pad(preproc_english_sentences, max_french_sequence_length)\n",
    "tmp_x = tmp_x.reshape((-1, preproc_french_sentences.shape[-2], 1))\n",
    "              \n",
    "# Train the neural network\n",
    "encdec_model = encdec_model(\n",
    "    tmp_x.shape,\n",
    "    max_french_sequence_length,\n",
    "    english_vocab_size+1,  # Add 1 so the validation loss isn't nan \n",
    "    french_vocab_size+1)   # Add 1 so the validation loss isn't nan \n",
    "encdec_model.fit(tmp_x, preproc_french_sentences, batch_size=1024, epochs=10, validation_split=0.2)\n",
    "\n",
    "# Print prediction(s)\n",
    "print(logits_to_text(encdec_model.predict(tmp_x[:1])[0], french_tokenizer))"
   ]
  },
  {
   "cell_type": "markdown",
   "metadata": {},
   "source": [
    "### Model 5: Custom\n",
    "Use everything you learned from the previous models to create a model that incorporates embedding and a bidirectional rnn into one model."
   ]
  },
  {
   "cell_type": "code",
   "execution_count": 16,
   "metadata": {
    "scrolled": false
   },
   "outputs": [
    {
     "name": "stdout",
     "output_type": "stream",
     "text": [
      "Final Model Loaded\n",
      "Train on 110288 samples, validate on 27573 samples\n",
      "Epoch 1/30\n",
      "110288/110288 [==============================] - 152s 1ms/step - loss: 2.0343 - acc: 0.5407 - val_loss: 1.2516 - val_acc: 0.6598\n",
      "Epoch 2/30\n",
      "110288/110288 [==============================] - 150s 1ms/step - loss: 1.0468 - acc: 0.7065 - val_loss: 0.8129 - val_acc: 0.7643\n",
      "Epoch 3/30\n",
      "110288/110288 [==============================] - 150s 1ms/step - loss: 0.7109 - acc: 0.7869 - val_loss: 0.5296 - val_acc: 0.8348\n",
      "Epoch 4/30\n",
      "110288/110288 [==============================] - 150s 1ms/step - loss: 0.4506 - acc: 0.8600 - val_loss: 0.3116 - val_acc: 0.9071\n",
      "Epoch 5/30\n",
      "110288/110288 [==============================] - 150s 1ms/step - loss: 0.2922 - acc: 0.9113 - val_loss: 0.2504 - val_acc: 0.9229\n",
      "Epoch 6/30\n",
      "110288/110288 [==============================] - 150s 1ms/step - loss: 0.2162 - acc: 0.9339 - val_loss: 0.1712 - val_acc: 0.9473\n",
      "Epoch 7/30\n",
      "110288/110288 [==============================] - 150s 1ms/step - loss: 0.1725 - acc: 0.9469 - val_loss: 0.1523 - val_acc: 0.9529\n",
      "Epoch 8/30\n",
      "110288/110288 [==============================] - 150s 1ms/step - loss: 0.1421 - acc: 0.9562 - val_loss: 0.1315 - val_acc: 0.9586\n",
      "Epoch 9/30\n",
      "110288/110288 [==============================] - 150s 1ms/step - loss: 0.1352 - acc: 0.9586 - val_loss: 0.1124 - val_acc: 0.9648\n",
      "Epoch 10/30\n",
      "110288/110288 [==============================] - 150s 1ms/step - loss: 0.1063 - acc: 0.9671 - val_loss: 0.1042 - val_acc: 0.9683\n",
      "Epoch 11/30\n",
      "110288/110288 [==============================] - 150s 1ms/step - loss: 0.0922 - acc: 0.9716 - val_loss: 0.0987 - val_acc: 0.9701\n",
      "Epoch 12/30\n",
      "110288/110288 [==============================] - 150s 1ms/step - loss: 0.0826 - acc: 0.9744 - val_loss: 0.0869 - val_acc: 0.9734\n",
      "Epoch 13/30\n",
      "110288/110288 [==============================] - 150s 1ms/step - loss: 0.0736 - acc: 0.9774 - val_loss: 0.0909 - val_acc: 0.9735\n",
      "Epoch 14/30\n",
      "110288/110288 [==============================] - 150s 1ms/step - loss: 0.0659 - acc: 0.9797 - val_loss: 0.0858 - val_acc: 0.9742\n",
      "Epoch 15/30\n",
      "110288/110288 [==============================] - 150s 1ms/step - loss: 0.0639 - acc: 0.9802 - val_loss: 0.0774 - val_acc: 0.9776\n",
      "Epoch 16/30\n",
      "110288/110288 [==============================] - 150s 1ms/step - loss: 0.0536 - acc: 0.9836 - val_loss: 0.0764 - val_acc: 0.9779\n",
      "Epoch 17/30\n",
      "110288/110288 [==============================] - 149s 1ms/step - loss: 0.0562 - acc: 0.9829 - val_loss: 0.0723 - val_acc: 0.9797\n",
      "Epoch 18/30\n",
      "110288/110288 [==============================] - 149s 1ms/step - loss: 0.0452 - acc: 0.9862 - val_loss: 0.0944 - val_acc: 0.9736\n",
      "Epoch 19/30\n",
      "110288/110288 [==============================] - 150s 1ms/step - loss: 0.0440 - acc: 0.9866 - val_loss: 0.0644 - val_acc: 0.9817\n",
      "Epoch 20/30\n",
      "110288/110288 [==============================] - 150s 1ms/step - loss: 0.0343 - acc: 0.9895 - val_loss: 0.0692 - val_acc: 0.9813\n",
      "Epoch 21/30\n",
      "110288/110288 [==============================] - 150s 1ms/step - loss: 0.0312 - acc: 0.9904 - val_loss: 0.0698 - val_acc: 0.9815\n",
      "Epoch 22/30\n",
      "110288/110288 [==============================] - 150s 1ms/step - loss: 0.0366 - acc: 0.9888 - val_loss: 0.0734 - val_acc: 0.9799\n",
      "Epoch 23/30\n",
      "110288/110288 [==============================] - 150s 1ms/step - loss: 0.0332 - acc: 0.9899 - val_loss: 0.0691 - val_acc: 0.9816\n",
      "Epoch 24/30\n",
      "110288/110288 [==============================] - 149s 1ms/step - loss: 0.0284 - acc: 0.9914 - val_loss: 0.0707 - val_acc: 0.9819\n",
      "Epoch 25/30\n",
      "110288/110288 [==============================] - 150s 1ms/step - loss: 0.0250 - acc: 0.9925 - val_loss: 0.0693 - val_acc: 0.9831\n",
      "Epoch 26/30\n",
      "110288/110288 [==============================] - 150s 1ms/step - loss: 0.0242 - acc: 0.9926 - val_loss: 0.0676 - val_acc: 0.9835\n",
      "Epoch 27/30\n",
      "110288/110288 [==============================] - 150s 1ms/step - loss: 0.0293 - acc: 0.9912 - val_loss: 0.0667 - val_acc: 0.9836\n",
      "Epoch 28/30\n",
      "110288/110288 [==============================] - 150s 1ms/step - loss: 0.0203 - acc: 0.9939 - val_loss: 0.0679 - val_acc: 0.9840\n",
      "Epoch 29/30\n",
      "110288/110288 [==============================] - 150s 1ms/step - loss: 0.0243 - acc: 0.9928 - val_loss: 0.0686 - val_acc: 0.9832\n",
      "Epoch 30/30\n",
      "110288/110288 [==============================] - 150s 1ms/step - loss: 0.0212 - acc: 0.9936 - val_loss: 0.0672 - val_acc: 0.9840\n",
      "new jersey est parfois calme pendant l' automne et il est neigeux en avril <PAD> <PAD> <PAD> <PAD> <PAD> <PAD> <PAD>\n"
     ]
    }
   ],
   "source": [
    "def model_final(input_shape, output_sequence_length, english_vocab_size, french_vocab_size):\n",
    "    \"\"\"\n",
    "    Build and train a model that incorporates embedding, encoder-decoder, and bidirectional RNN on x and y\n",
    "    :param input_shape: Tuple of input shape\n",
    "    :param output_sequence_length: Length of output sequence\n",
    "    :param english_vocab_size: Number of unique English words in the dataset\n",
    "    :param french_vocab_size: Number of unique French words in the dataset\n",
    "    :return: Keras model built, but not trained\n",
    "    \"\"\"\n",
    "    embedding_size = 256\n",
    "    learning_rate = 1e-3\n",
    "    # logits1 = TimeDistributed(Dense(2*french_vocab_size, activation = 'softmax'))\n",
    "    logits2 = TimeDistributed(Dense(french_vocab_size, activation = 'softmax'))\n",
    "    enc1 = LSTM(512, return_sequences=False)\n",
    "    # enc2 = LSTM(256, return_sequences=False)\n",
    "    # dec1 = LSTM(256, return_sequences=True)\n",
    "    dec2 = LSTM(512, return_sequences=True)    \n",
    "    \n",
    "    model = Sequential()\n",
    "    model.add(Embedding(english_vocab_size, embedding_size, input_shape=input_shape[1:]))\n",
    "    model.add(Bidirectional(enc1))\n",
    "    # model.add(Bidirectional(enc2))\n",
    "    model.add(RepeatVector(output_sequence_length))\n",
    "    # model.add(Bidirectional(dec1))\n",
    "    model.add(Bidirectional(dec2))\n",
    "    # model.add(logits1)\n",
    "    model.add(Dropout(0.3))\n",
    "    model.add(logits2)\n",
    "    model.compile(loss=sparse_categorical_crossentropy,\n",
    "                  optimizer=Adam(learning_rate),\n",
    "                  metrics=['accuracy'])    \n",
    "    return model\n",
    "tests.test_model_final(model_final)\n",
    "\n",
    "\n",
    "print('Final Model Loaded')\n",
    "# Reshape the input\n",
    "tmp_x = pad(preproc_english_sentences, max_french_sequence_length)\n",
    "\n",
    "# Train the neural network\n",
    "mod_fin = model_final(\n",
    "    tmp_x.shape,\n",
    "    max_french_sequence_length,\n",
    "    english_vocab_size+1,  # Add 1 so the validation loss isn't nan \n",
    "    french_vocab_size+1)   # Add 1 so the validation loss isn't nan \n",
    "mod_fin.fit(tmp_x, preproc_french_sentences, batch_size=512, epochs=30, validation_split=0.2)\n",
    "\n",
    "# Print prediction(s)\n",
    "print(logits_to_text(mod_fin.predict(tmp_x[:1])[0], french_tokenizer))"
   ]
  },
  {
   "cell_type": "markdown",
   "metadata": {},
   "source": [
    "## Prediction"
   ]
  },
  {
   "cell_type": "code",
   "execution_count": 11,
   "metadata": {},
   "outputs": [
    {
     "name": "stdout",
     "output_type": "stream",
     "text": [
      "Train on 110288 samples, validate on 27573 samples\n",
      "Epoch 1/30\n",
      "110288/110288 [==============================] - 152s 1ms/step - loss: 2.0281 - acc: 0.5411 - val_loss: 1.2642 - val_acc: 0.6522\n",
      "Epoch 2/30\n",
      "110288/110288 [==============================] - 149s 1ms/step - loss: 1.0532 - acc: 0.7050 - val_loss: 0.8244 - val_acc: 0.7582\n",
      "Epoch 3/30\n",
      "110288/110288 [==============================] - 149s 1ms/step - loss: 0.7248 - acc: 0.7826 - val_loss: 0.5608 - val_acc: 0.8252\n",
      "Epoch 4/30\n",
      "110288/110288 [==============================] - 149s 1ms/step - loss: 0.4712 - acc: 0.8553 - val_loss: 0.3362 - val_acc: 0.9007\n",
      "Epoch 5/30\n",
      "110288/110288 [==============================] - 149s 1ms/step - loss: 0.3036 - acc: 0.9083 - val_loss: 0.2212 - val_acc: 0.9330\n",
      "Epoch 6/30\n",
      "110288/110288 [==============================] - 149s 1ms/step - loss: 0.2230 - acc: 0.9318 - val_loss: 0.1732 - val_acc: 0.9456\n",
      "Epoch 7/30\n",
      "110288/110288 [==============================] - 149s 1ms/step - loss: 0.1787 - acc: 0.9449 - val_loss: 0.1468 - val_acc: 0.9549\n",
      "Epoch 8/30\n",
      "110288/110288 [==============================] - 149s 1ms/step - loss: 0.1460 - acc: 0.9548 - val_loss: 0.1226 - val_acc: 0.9619\n",
      "Epoch 9/30\n",
      "110288/110288 [==============================] - 149s 1ms/step - loss: 0.1223 - acc: 0.9621 - val_loss: 0.1198 - val_acc: 0.9630\n",
      "Epoch 10/30\n",
      "110288/110288 [==============================] - 149s 1ms/step - loss: 0.1094 - acc: 0.9659 - val_loss: 0.0991 - val_acc: 0.9692\n",
      "Epoch 11/30\n",
      "110288/110288 [==============================] - 149s 1ms/step - loss: 0.0960 - acc: 0.9701 - val_loss: 0.0929 - val_acc: 0.9710\n",
      "Epoch 12/30\n",
      "110288/110288 [==============================] - 149s 1ms/step - loss: 0.0852 - acc: 0.9735 - val_loss: 0.0990 - val_acc: 0.9702\n",
      "Epoch 13/30\n",
      "110288/110288 [==============================] - 149s 1ms/step - loss: 0.0771 - acc: 0.9761 - val_loss: 0.0889 - val_acc: 0.9733\n",
      "Epoch 14/30\n",
      "110288/110288 [==============================] - 149s 1ms/step - loss: 0.0648 - acc: 0.9799 - val_loss: 0.0817 - val_acc: 0.9758\n",
      "Epoch 15/30\n",
      "110288/110288 [==============================] - 149s 1ms/step - loss: 0.0647 - acc: 0.9800 - val_loss: 0.1018 - val_acc: 0.9703\n",
      "Epoch 16/30\n",
      "110288/110288 [==============================] - 149s 1ms/step - loss: 0.0577 - acc: 0.9821 - val_loss: 0.0810 - val_acc: 0.9767\n",
      "Epoch 17/30\n",
      "110288/110288 [==============================] - 149s 1ms/step - loss: 0.0538 - acc: 0.9835 - val_loss: 0.0684 - val_acc: 0.9800\n",
      "Epoch 18/30\n",
      "110288/110288 [==============================] - 149s 1ms/step - loss: 0.0495 - acc: 0.9847 - val_loss: 0.0765 - val_acc: 0.9782\n",
      "Epoch 19/30\n",
      "110288/110288 [==============================] - 150s 1ms/step - loss: 0.0412 - acc: 0.9873 - val_loss: 0.0666 - val_acc: 0.9819\n",
      "Epoch 20/30\n",
      "110288/110288 [==============================] - 150s 1ms/step - loss: 0.0367 - acc: 0.9887 - val_loss: 0.0733 - val_acc: 0.9804\n",
      "Epoch 21/30\n",
      "110288/110288 [==============================] - 150s 1ms/step - loss: 0.0335 - acc: 0.9898 - val_loss: 0.0664 - val_acc: 0.9824\n",
      "Epoch 22/30\n",
      "110288/110288 [==============================] - 150s 1ms/step - loss: 0.0300 - acc: 0.9908 - val_loss: 0.0692 - val_acc: 0.9825\n",
      "Epoch 23/30\n",
      "110288/110288 [==============================] - 150s 1ms/step - loss: 0.0335 - acc: 0.9898 - val_loss: 0.0762 - val_acc: 0.9798\n",
      "Epoch 24/30\n",
      "110288/110288 [==============================] - 150s 1ms/step - loss: 0.0322 - acc: 0.9903 - val_loss: 0.0682 - val_acc: 0.9822\n",
      "Epoch 25/30\n",
      "110288/110288 [==============================] - 150s 1ms/step - loss: 0.0260 - acc: 0.9920 - val_loss: 0.0731 - val_acc: 0.9812\n",
      "Epoch 26/30\n",
      "110288/110288 [==============================] - 150s 1ms/step - loss: 0.0243 - acc: 0.9927 - val_loss: 0.0746 - val_acc: 0.9817\n",
      "Epoch 27/30\n",
      "110288/110288 [==============================] - 150s 1ms/step - loss: 0.0258 - acc: 0.9923 - val_loss: 0.0687 - val_acc: 0.9835\n",
      "Epoch 28/30\n",
      "110288/110288 [==============================] - 150s 1ms/step - loss: 0.0224 - acc: 0.9932 - val_loss: 0.0717 - val_acc: 0.9829\n",
      "Epoch 29/30\n",
      "110288/110288 [==============================] - 150s 1ms/step - loss: 0.0272 - acc: 0.9919 - val_loss: 0.0659 - val_acc: 0.9839\n",
      "Epoch 30/30\n",
      "110288/110288 [==============================] - 150s 1ms/step - loss: 0.0211 - acc: 0.9938 - val_loss: 0.0641 - val_acc: 0.9845\n",
      "Sample 1:\n",
      "il a vu un vieux camion jaune <PAD> <PAD> <PAD> <PAD> <PAD> <PAD> <PAD> <PAD> <PAD> <PAD> <PAD> <PAD> <PAD> <PAD>\n",
      "Il a vu un vieux camion jaune\n",
      "Sample 2:\n",
      "new jersey est parfois calme pendant l' automne et il est neigeux en avril <PAD> <PAD> <PAD> <PAD> <PAD> <PAD> <PAD>\n",
      "new jersey est parfois calme pendant l' automne et il est neigeux en avril <PAD> <PAD> <PAD> <PAD> <PAD> <PAD> <PAD>\n"
     ]
    }
   ],
   "source": [
    "def model_final(input_shape, output_sequence_length, english_vocab_size, french_vocab_size):\n",
    "    \"\"\"\n",
    "    Build and train a model that incorporates embedding, encoder-decoder, and bidirectional RNN on x and y\n",
    "    :param input_shape: Tuple of input shape\n",
    "    :param output_sequence_length: Length of output sequence\n",
    "    :param english_vocab_size: Number of unique English words in the dataset\n",
    "    :param french_vocab_size: Number of unique French words in the dataset\n",
    "    :return: Keras model built, but not trained\n",
    "    \"\"\"\n",
    "    embedding_size = 256\n",
    "    learning_rate = 1e-3\n",
    "    # logits1 = TimeDistributed(Dense(2*french_vocab_size, activation = 'softmax'))\n",
    "    logits2 = TimeDistributed(Dense(french_vocab_size, activation = 'softmax'))\n",
    "    enc1 = LSTM(512, return_sequences=False)\n",
    "    # enc2 = LSTM(256, return_sequences=False)\n",
    "    # dec1 = LSTM(256, return_sequences=True)\n",
    "    dec2 = LSTM(512, return_sequences=True)    \n",
    "    \n",
    "    model = Sequential()\n",
    "    model.add(Embedding(english_vocab_size, embedding_size, input_shape=input_shape[1:]))\n",
    "    model.add(Bidirectional(enc1))\n",
    "    # model.add(Bidirectional(enc2))\n",
    "    model.add(RepeatVector(output_sequence_length))\n",
    "    # model.add(Bidirectional(dec1))\n",
    "    model.add(Bidirectional(dec2))\n",
    "    # model.add(logits1)\n",
    "    model.add(Dropout(0.3))\n",
    "    model.add(logits2)\n",
    "    model.compile(loss=sparse_categorical_crossentropy,\n",
    "                  optimizer=Adam(learning_rate),\n",
    "                  metrics=['accuracy'])    \n",
    "    return model\n",
    "\n",
    "def final_predictions(x, y, x_tk, y_tk):\n",
    "    \"\"\"\n",
    "    Gets predictions using the final model\n",
    "    :param x: Preprocessed English data\n",
    "    :param y: Preprocessed French data\n",
    "    :param x_tk: English tokenizer\n",
    "    :param y_tk: French tokenizer\n",
    "    \"\"\"\n",
    "    # Train neural network using model_final\n",
    "    x = pad(x, y.shape[1])\n",
    "    x_n = len(x_tk.word_index)\n",
    "    y_n = len(y_tk.word_index)\n",
    "    model = model_final(x.shape, y.shape[1], x_n+1, y_n+1)\n",
    "    model.fit(x, y, batch_size=512, epochs=30, validation_split=0.2)\n",
    "    \n",
    "    ## DON'T EDIT ANYTHING BELOW THIS LINE\n",
    "    y_id_to_word = {value: key for key, value in y_tk.word_index.items()}\n",
    "    y_id_to_word[0] = '<PAD>'\n",
    "\n",
    "    sentence = 'he saw a old yellow truck'\n",
    "    sentence = [x_tk.word_index[word] for word in sentence.split()]\n",
    "    sentence = pad_sequences([sentence], maxlen=x.shape[-1], padding='post')\n",
    "    sentences = np.array([sentence[0], x[0]])\n",
    "    predictions = model.predict(sentences, len(sentences))\n",
    "\n",
    "    print('Sample 1:')\n",
    "    print(' '.join([y_id_to_word[np.argmax(x)] for x in predictions[0]]))\n",
    "    print('Il a vu un vieux camion jaune')\n",
    "    print('Sample 2:')\n",
    "    print(' '.join([y_id_to_word[np.argmax(x)] for x in predictions[1]]))\n",
    "    print(' '.join([y_id_to_word[np.max(x)] for x in y[0]]))\n",
    "\n",
    "\n",
    "final_predictions(preproc_english_sentences, preproc_french_sentences, english_tokenizer, french_tokenizer)"
   ]
  },
  {
   "cell_type": "markdown",
   "metadata": {},
   "source": [
    "## Submission\n",
    "When you're ready to submit, complete the following steps:\n",
    "1. Review the [rubric](https://review.udacity.com/#!/rubrics/1004/view) to ensure your submission meets all requirements to pass\n",
    "2. Generate an HTML version of this notebook\n",
    "\n",
    "  - Run the next cell to attempt automatic generation (this is the recommended method in Workspaces)\n",
    "  - Navigate to **FILE -> Download as -> HTML (.html)**\n",
    "  - Manually generate a copy using `nbconvert` from your shell terminal\n",
    "```\n",
    "$ pip install nbconvert\n",
    "$ python -m nbconvert machine_translation.ipynb\n",
    "```\n",
    "  \n",
    "3. Submit the project\n",
    "\n",
    "  - If you are in a Workspace, simply click the \"Submit Project\" button (bottom towards the right)\n",
    "  \n",
    "  - Otherwise, add the following files into a zip archive and submit them \n",
    "  - `helper.py`\n",
    "  - `machine_translation.ipynb`\n",
    "  - `machine_translation.html`\n",
    "    - You can export the notebook by navigating to **File -> Download as -> HTML (.html)**."
   ]
  },
  {
   "cell_type": "markdown",
   "metadata": {},
   "source": [
    "### Generate the html\n",
    "\n",
    "**Save your notebook before running the next cell to generate the HTML output.** Then submit your project."
   ]
  },
  {
   "cell_type": "code",
   "execution_count": 12,
   "metadata": {},
   "outputs": [
    {
     "data": {
      "text/plain": [
       "['[NbConvertApp] Converting notebook machine_translation.ipynb to html',\n",
       " '[NbConvertApp] Writing 382103 bytes to machine_translation.html',\n",
       " '[NbConvertApp] Converting notebook machine_translation-zh.ipynb to html',\n",
       " '[NbConvertApp] Writing 328614 bytes to machine_translation-zh.html']"
      ]
     },
     "execution_count": 12,
     "metadata": {},
     "output_type": "execute_result"
    }
   ],
   "source": [
    "# Save before you run this cell!\n",
    "!!jupyter nbconvert *.ipynb"
   ]
  },
  {
   "cell_type": "markdown",
   "metadata": {},
   "source": [
    "## Optional Enhancements\n",
    "\n",
    "This project focuses on learning various network architectures for machine translation, but we don't evaluate the models according to best practices by splitting the data into separate test & training sets -- so the model accuracy is overstated. Use the [`sklearn.model_selection.train_test_split()`](http://scikit-learn.org/stable/modules/generated/sklearn.model_selection.train_test_split.html) function to create separate training & test datasets, then retrain each of the models using only the training set and evaluate the prediction accuracy using the hold out test set. Does the \"best\" model change?"
   ]
  }
 ],
 "metadata": {
  "kernelspec": {
   "display_name": "Python 3",
   "language": "python",
   "name": "python3"
  },
  "language_info": {
   "codemirror_mode": {
    "name": "ipython",
    "version": 3
   },
   "file_extension": ".py",
   "mimetype": "text/x-python",
   "name": "python",
   "nbconvert_exporter": "python",
   "pygments_lexer": "ipython3",
   "version": "3.7.7"
  }
 },
 "nbformat": 4,
 "nbformat_minor": 1
}
